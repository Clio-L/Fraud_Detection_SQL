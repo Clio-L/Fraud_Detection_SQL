{
 "cells": [
  {
   "cell_type": "code",
   "execution_count": 6,
   "id": "1f90c718-cbd4-4f9e-a729-8836598c98af",
   "metadata": {},
   "outputs": [
    {
     "name": "stdout",
     "output_type": "stream",
     "text": [
      "0.20.3\n"
     ]
    },
    {
     "ename": "Exception",
     "evalue": "neither graphviz or pygraphviz are available. Install either library!",
     "output_type": "error",
     "traceback": [
      "\u001b[1;31m---------------------------------------------------------------------------\u001b[0m",
      "\u001b[1;31mException\u001b[0m                                 Traceback (most recent call last)",
      "Cell \u001b[1;32mIn[6], line 28\u001b[0m\n\u001b[0;32m     25\u001b[0m \u001b[38;5;28mprint\u001b[39m(graphviz\u001b[38;5;241m.\u001b[39m__version__)\n\u001b[0;32m     26\u001b[0m \u001b[38;5;28;01mfrom\u001b[39;00m \u001b[38;5;21;01meralchemy\u001b[39;00m \u001b[38;5;28;01mimport\u001b[39;00m render_er\n\u001b[1;32m---> 28\u001b[0m render_er(metadata, \u001b[38;5;124m\"\u001b[39m\u001b[38;5;124merd.png\u001b[39m\u001b[38;5;124m\"\u001b[39m)\n",
      "File \u001b[1;32m~\\anaconda3\\Lib\\site-packages\\eralchemy\\main.py:398\u001b[0m, in \u001b[0;36mrender_er\u001b[1;34m(input, output, mode, include_tables, include_columns, exclude_tables, exclude_columns, schema, title)\u001b[0m\n\u001b[0;32m    389\u001b[0m     tables, relationships \u001b[38;5;241m=\u001b[39m filter_resources(\n\u001b[0;32m    390\u001b[0m         tables,\n\u001b[0;32m    391\u001b[0m         relationships,\n\u001b[1;32m   (...)\u001b[0m\n\u001b[0;32m    395\u001b[0m         exclude_columns\u001b[38;5;241m=\u001b[39mexclude_columns,\n\u001b[0;32m    396\u001b[0m     )\n\u001b[0;32m    397\u001b[0m     intermediary_to_output \u001b[38;5;241m=\u001b[39m get_output_mode(output, mode)\n\u001b[1;32m--> 398\u001b[0m     \u001b[38;5;28;01mreturn\u001b[39;00m intermediary_to_output(tables, relationships, output, title)\n\u001b[0;32m    399\u001b[0m \u001b[38;5;28;01mexcept\u001b[39;00m \u001b[38;5;167;01mImportError\u001b[39;00m \u001b[38;5;28;01mas\u001b[39;00m e:\n\u001b[0;32m    400\u001b[0m     module_name \u001b[38;5;241m=\u001b[39m e\u001b[38;5;241m.\u001b[39mmessage\u001b[38;5;241m.\u001b[39msplit()[\u001b[38;5;241m-\u001b[39m\u001b[38;5;241m1\u001b[39m]\n",
      "File \u001b[1;32m~\\anaconda3\\Lib\\site-packages\\eralchemy\\main.py:158\u001b[0m, in \u001b[0;36mintermediary_to_schema\u001b[1;34m(tables, relationships, output, title)\u001b[0m\n\u001b[0;32m    156\u001b[0m \u001b[38;5;250m\u001b[39m\u001b[38;5;124;03m\"\"\"Transforms and save the intermediary representation to the file chosen.\"\"\"\u001b[39;00m\n\u001b[0;32m    157\u001b[0m \u001b[38;5;28;01mif\u001b[39;00m \u001b[38;5;129;01mnot\u001b[39;00m GRAPHVIZ_AVAILABLE:\n\u001b[1;32m--> 158\u001b[0m     \u001b[38;5;28;01mraise\u001b[39;00m \u001b[38;5;167;01mException\u001b[39;00m(\u001b[38;5;124m\"\u001b[39m\u001b[38;5;124mneither graphviz or pygraphviz are available. Install either library!\u001b[39m\u001b[38;5;124m\"\u001b[39m)\n\u001b[0;32m    159\u001b[0m dot_file \u001b[38;5;241m=\u001b[39m _intermediary_to_dot(tables, relationships, title)\n\u001b[0;32m    160\u001b[0m extension \u001b[38;5;241m=\u001b[39m output\u001b[38;5;241m.\u001b[39msplit(\u001b[38;5;124m\"\u001b[39m\u001b[38;5;124m.\u001b[39m\u001b[38;5;124m\"\u001b[39m)[\u001b[38;5;241m-\u001b[39m\u001b[38;5;241m1\u001b[39m]\n",
      "\u001b[1;31mException\u001b[0m: neither graphviz or pygraphviz are available. Install either library!"
     ]
    }
   ],
   "source": [
    "import pandas as pd\n",
    "from sqlalchemy import create_engine, MetaData\n",
    "\n",
    "# Create SQLite in-memory database\n",
    "engine = create_engine(\"sqlite:///:memory:\")\n",
    "metadata = MetaData()\n",
    "\n",
    "# Load CSVs into tables\n",
    "merchant_category = pd.read_csv(\"merchant_category.csv\")\n",
    "merchant = pd.read_csv(\"merchant.csv\")\n",
    "credit_card = pd.read_csv(\"credit_card.csv\")\n",
    "card_holder = pd.read_csv(\"card_holder.csv\")\n",
    "transaction = pd.read_csv(\"transaction.csv\")\n",
    "\n",
    "merchant_category.to_sql(\"merchant_category\", engine, index=False, if_exists=\"replace\")\n",
    "merchant.to_sql(\"merchant\", engine, index=False, if_exists=\"replace\")\n",
    "credit_card.to_sql(\"credit_card\", engine, index=False, if_exists=\"replace\")\n",
    "card_holder.to_sql(\"card_holder\", engine, index=False, if_exists=\"replace\")\n",
    "transaction.to_sql(\"transaction\", engine, index=False, if_exists=\"replace\")\n",
    "\n",
    "# Generate ERD\n",
    "# !pip install eralchemy\n",
    "# !pip install graphviz\n",
    "import graphviz\n",
    "print(graphviz.__version__)\n",
    "from eralchemy import render_er\n",
    "\n",
    "render_er(metadata, \"erd.png\")  # Saves ERD as an image"
   ]
  }
 ],
 "metadata": {
  "kernelspec": {
   "display_name": "Python 3 (ipykernel)",
   "language": "python",
   "name": "python3"
  },
  "language_info": {
   "codemirror_mode": {
    "name": "ipython",
    "version": 3
   },
   "file_extension": ".py",
   "mimetype": "text/x-python",
   "name": "python",
   "nbconvert_exporter": "python",
   "pygments_lexer": "ipython3",
   "version": "3.12.7"
  }
 },
 "nbformat": 4,
 "nbformat_minor": 5
}
